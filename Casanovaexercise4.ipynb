{
  "cells": [
    {
      "cell_type": "markdown",
      "metadata": {
        "id": "view-in-github",
        "colab_type": "text"
      },
      "source": [
        "<a href=\"https://colab.research.google.com/github/Casanova5550/CCDATRCL_ASSIGNMENT_COM221/blob/main/Casanovaexercise4.ipynb\" target=\"_parent\"><img src=\"https://colab.research.google.com/assets/colab-badge.svg\" alt=\"Open In Colab\"/></a>"
      ]
    },
    {
      "cell_type": "markdown",
      "metadata": {
        "id": "fCO3VeNzvGDc"
      },
      "source": [
        "# Exercise 4"
      ]
    },
    {
      "cell_type": "markdown",
      "metadata": {
        "id": "UCFGr2qPKONg"
      },
      "source": [
        "#### Pre-defined sorting algorithms"
      ]
    },
    {
      "cell_type": "code",
      "execution_count": null,
      "metadata": {
        "id": "dXWXOLWtKONg"
      },
      "outputs": [],
      "source": [
        "def mergeSort(array):\n",
        "    if len(array) > 1:\n",
        "\n",
        "        #  r is the point where the array is divided into two subarrays\n",
        "        r = len(array)//2\n",
        "        L = array[:r]\n",
        "        M = array[r:]\n",
        "\n",
        "        # Sort the two halves\n",
        "        mergeSort(L)\n",
        "        mergeSort(M)\n",
        "\n",
        "        i = j = k = 0\n",
        "\n",
        "        # Until we reach either end of either L or M, pick larger among\n",
        "        # elements L and M and place them in the correct position at A[p..r]\n",
        "        while i < len(L) and j < len(M):\n",
        "            if L[i] < M[j]:\n",
        "                array[k] = L[i]\n",
        "                i += 1\n",
        "            else:\n",
        "                array[k] = M[j]\n",
        "                j += 1\n",
        "            k += 1\n",
        "\n",
        "        # When we run out of elements in either L or M,\n",
        "        # pick up the remaining elements and put in A[p..r]\n",
        "        while i < len(L):\n",
        "            array[k] = L[i]\n",
        "            i += 1\n",
        "            k += 1\n",
        "\n",
        "        while j < len(M):\n",
        "            array[k] = M[j]\n",
        "            j += 1\n",
        "            k += 1\n",
        "\n",
        "# Print the array\n",
        "def printList(array):\n",
        "    for i in range(len(array)):\n",
        "        print(array[i], end=\" \")\n",
        "    print()"
      ]
    },
    {
      "cell_type": "code",
      "execution_count": null,
      "metadata": {
        "id": "OB-JMVxvKONi"
      },
      "outputs": [],
      "source": [
        "def countingSort(array):\n",
        "    size = len(array)\n",
        "    output = [0] * size\n",
        "\n",
        "    # Initialize count array\n",
        "    count = [0] * 10\n",
        "\n",
        "    # Store the count of each elements in count array\n",
        "    for i in range(0, size):\n",
        "        count[array[i]] += 1\n",
        "\n",
        "    # Store the cummulative count\n",
        "    for i in range(1, 10):\n",
        "        count[i] += count[i - 1]\n",
        "\n",
        "    # Find the index of each element of the original array in count array\n",
        "    # place the elements in output array\n",
        "    i = size - 1\n",
        "    while i >= 0:\n",
        "        output[count[array[i]] - 1] = array[i]\n",
        "        count[array[i]] -= 1\n",
        "        i -= 1\n",
        "\n",
        "    # Copy the sorted elements into original array\n",
        "    for i in range(0, size):\n",
        "        array[i] = output[i]"
      ]
    },
    {
      "cell_type": "code",
      "execution_count": null,
      "metadata": {
        "id": "VXaukk4_KONj"
      },
      "outputs": [],
      "source": [
        "def insertionSort(array):\n",
        "\n",
        "    for step in range(1, len(array)):\n",
        "        key = array[step]\n",
        "        j = step - 1\n",
        "\n",
        "        # Compare key with each element on the left of it until an element smaller than it is found\n",
        "        # For descending order, change key<array[j] to key>array[j].\n",
        "        while j >= 0 and key < array[j]:\n",
        "            array[j + 1] = array[j]\n",
        "            j = j - 1\n",
        "\n",
        "        # Place key at after the element just smaller than it.\n",
        "        array[j + 1] = key"
      ]
    },
    {
      "cell_type": "code",
      "execution_count": null,
      "metadata": {
        "id": "b4yWHH1nKONj"
      },
      "outputs": [],
      "source": [
        "# Bubble sort in Python\n",
        "def bubbleSort(array):\n",
        "\n",
        "  # loop to access each array element\n",
        "  for i in range(len(array)):\n",
        "\n",
        "    # loop to compare array elements\n",
        "    for j in range(0, len(array) - i - 1):\n",
        "\n",
        "      # compare two adjacent elements\n",
        "      # change > to < to sort in descending order\n",
        "      if array[j] > array[j + 1]:\n",
        "\n",
        "        # swapping elements if elements\n",
        "        # are not in the intended order\n",
        "        temp = array[j]\n",
        "        array[j] = array[j+1]\n",
        "        array[j+1] = temp"
      ]
    },
    {
      "cell_type": "markdown",
      "metadata": {
        "id": "6j9PZVsyvGDe"
      },
      "source": [
        "#### 1. Sort your **student number** in **ascending order**\n",
        "\n",
        "Example:\n",
        "\n",
        "**Input: 2022123456**\n",
        "\n",
        "**Output: 0122223456**"
      ]
    },
    {
      "cell_type": "code",
      "execution_count": 1,
      "metadata": {
        "id": "UuNMRCm3vGDe",
        "outputId": "4a1e0198-fed0-47a5-d7d9-cc00edcb598e",
        "colab": {
          "base_uri": "https://localhost:8080/"
        }
      },
      "outputs": [
        {
          "output_type": "stream",
          "name": "stdout",
          "text": [
            "0122223456\n"
          ]
        }
      ],
      "source": [
        "\n",
        "student_number = \"2022123456\"\n",
        "\n",
        "\n",
        "sorted_number = ''.join(sorted(student_number))\n",
        "\n",
        "\n",
        "print(sorted_number)"
      ]
    },
    {
      "cell_type": "markdown",
      "metadata": {
        "id": "felukBjnvGDf"
      },
      "source": [
        "#### 2. Sort the **dates** in **ascending order**.\n",
        "\n",
        "dates = [\"12-25-2023\", birthday, \"01-01-2023\"]\n",
        "\n",
        "Enter your birthday in the birthday variable."
      ]
    },
    {
      "cell_type": "code",
      "execution_count": 2,
      "metadata": {
        "id": "f8xQ3N0jvGDg",
        "outputId": "9c9fdead-9053-426f-ac5f-8d92e56aca5c",
        "colab": {
          "base_uri": "https://localhost:8080/"
        }
      },
      "outputs": [
        {
          "output_type": "stream",
          "name": "stdout",
          "text": [
            "11-20-2000\n",
            "01-01-2023\n",
            "12-25-2023\n"
          ]
        }
      ],
      "source": [
        "from datetime import datetime\n",
        "\n",
        "\n",
        "birthday = \"11-20-2000\"\n",
        "\n",
        "\n",
        "dates = [\"12-25-2023\", birthday, \"01-01-2023\"]\n",
        "\n",
        "\n",
        "def date_key(date_str):\n",
        "    return datetime.strptime(date_str, \"%m-%d-%Y\")\n",
        "\n",
        "\n",
        "sorted_dates = sorted(dates, key=date_key)\n",
        "\n",
        "\n",
        "for date in sorted_dates:\n",
        "    print(date)"
      ]
    },
    {
      "cell_type": "markdown",
      "metadata": {
        "id": "IFDPeGZxvGDg"
      },
      "source": [
        "#### 3. Count the **total number of swaps** to sort the list below using **Bubble Sort**\n",
        "\n",
        "|3|2|5|1|4|\n",
        "|---|----|---|---|---|"
      ]
    },
    {
      "cell_type": "code",
      "execution_count": 3,
      "metadata": {
        "id": "b1ppwLcevGDg",
        "outputId": "85c8fa5f-835f-46a4-e8f3-b80453c08f38",
        "colab": {
          "base_uri": "https://localhost:8080/"
        }
      },
      "outputs": [
        {
          "output_type": "stream",
          "name": "stdout",
          "text": [
            "Sorted list: [1, 2, 3, 4, 5]\n",
            "Total number of swaps: 5\n"
          ]
        }
      ],
      "source": [
        "lst = [3, 2, 5, 1, 4]\n",
        "\n",
        "\n",
        "total_swaps = 0\n",
        "\n",
        "\n",
        "n = len(lst)\n",
        "for i in range(n):\n",
        "    swapped = False\n",
        "    for j in range(0, n-i-1):\n",
        "\n",
        "        if lst[j] > lst[j+1]:\n",
        "            lst[j], lst[j+1] = lst[j+1], lst[j]\n",
        "            total_swaps += 1\n",
        "            swapped = True\n",
        "\n",
        "\n",
        "    if not swapped:\n",
        "        break\n",
        "\n",
        "print(\"Sorted list:\", lst)\n",
        "print(\"Total number of swaps:\", total_swaps)"
      ]
    },
    {
      "cell_type": "markdown",
      "metadata": {
        "id": "iO2UusQWvGDi"
      },
      "source": []
    },
    {
      "cell_type": "code",
      "execution_count": 8,
      "metadata": {
        "id": "vq1PYEjmvGDi",
        "outputId": "001e32a2-0259-4e7d-97e6-d1b6b928699c",
        "colab": {
          "base_uri": "https://localhost:8080/"
        }
      },
      "outputs": [
        {
          "output_type": "stream",
          "name": "stdout",
          "text": [
            "Sorted array: [1, 2, 3, 4, 5, 6, 7, 8, 9]\n",
            "Total steps: 16\n"
          ]
        }
      ],
      "source": [
        "def insertion_sort(arr):\n",
        "    steps = 0\n",
        "    for i in range(1, len(arr)):\n",
        "        key = arr[i]\n",
        "        j = i - 1\n",
        "        while j >= 0 and key < arr[j]:\n",
        "            arr[j + 1] = arr[j]\n",
        "            j -= 1\n",
        "            steps += 1\n",
        "        arr[j + 1] = key\n",
        "\n",
        "    return steps\n",
        "\n",
        "\n",
        "arr = [6, 2, 5, 7, 4, 1, 8, 9, 3]\n",
        "\n",
        "total_steps = insertion_sort(arr)\n",
        "\n",
        "print(\"Sorted array:\", arr)\n",
        "print(\"Total steps:\", total_steps)"
      ]
    },
    {
      "cell_type": "markdown",
      "metadata": {
        "id": "jpfNCCdbvGDj"
      },
      "source": [
        "#### 5. Given the list below:\n",
        "\n",
        "\n",
        "|7|5|4|3|2|5|1|8|\n",
        "|---|---|---|---|---|---|---|---|\n",
        "\n",
        "Using **merge sort** and **counting sort**\n",
        "\n",
        "Determine which sorting algorithm is faster by counting the total number of steps for each algorithm\n"
      ]
    },
    {
      "cell_type": "code",
      "execution_count": 9,
      "metadata": {
        "id": "2YVK17cSvGDj",
        "outputId": "f39f9fb5-cc45-493e-8139-2361d875509d",
        "colab": {
          "base_uri": "https://localhost:8080/"
        }
      },
      "outputs": [
        {
          "output_type": "stream",
          "name": "stdout",
          "text": [
            "Merge Sort Steps: 8\n",
            "Counting Sort Steps: 8\n",
            "Counting Sort is faster.\n"
          ]
        }
      ],
      "source": [
        "\n",
        "\n",
        "def merge_sort(arr):\n",
        "    if len(arr) > 1:\n",
        "        mid = len(arr) // 2\n",
        "        left_half = arr[:mid]\n",
        "        right_half = arr[mid:]\n",
        "\n",
        "\n",
        "        merge_sort(left_half)\n",
        "        merge_sort(right_half)\n",
        "\n",
        "\n",
        "        i = j = k = 0\n",
        "        steps = 0\n",
        "\n",
        "        while i < len(left_half) and j < len(right_half):\n",
        "            if left_half[i] < right_half[j]:\n",
        "                arr[k] = left_half[i]\n",
        "                i += 1\n",
        "            else:\n",
        "                arr[k] = right_half[j]\n",
        "                j += 1\n",
        "            k += 1\n",
        "            steps += 1\n",
        "\n",
        "        while i < len(left_half):\n",
        "            arr[k] = left_half[i]\n",
        "            i += 1\n",
        "            k += 1\n",
        "            steps += 1\n",
        "\n",
        "        while j < len(right_half):\n",
        "            arr[k] = right_half[j]\n",
        "            j += 1\n",
        "            k += 1\n",
        "            steps += 1\n",
        "\n",
        "        return steps\n",
        "\n",
        "\n",
        "arr = [7, 5, 4, 3, 2, 5, 1, 8]\n",
        "\n",
        "counting_sort_arr = arr.copy()\n",
        "\n",
        "\n",
        "merge_sort_steps = merge_sort(arr)\n",
        "\n",
        "\n",
        "def counting_sort(arr):\n",
        "    max_val = max(arr)\n",
        "    min_val = min(arr)\n",
        "    range_of_elements = max_val - min_val + 1\n",
        "    count_arr = [0] * range_of_elements\n",
        "    output_arr = [0] * len(arr)\n",
        "    steps = 0\n",
        "\n",
        "    for i in range(len(arr)):\n",
        "        count_arr[arr[i] - min_val] += 1\n",
        "\n",
        "    for i in range(1, len(count_arr)):\n",
        "        count_arr[i] += count_arr[i - 1]\n",
        "\n",
        "    for i in range(len(arr) - 1, -1, -1):\n",
        "        output_arr[count_arr[arr[i] - min_val] - 1] = arr[i]\n",
        "        count_arr[arr[i] - min_val] -= 1\n",
        "        steps += 1\n",
        "\n",
        "    return steps\n",
        "\n",
        "\n",
        "counting_sort_steps = counting_sort(counting_sort_arr)\n",
        "\n",
        "print(\"Merge Sort Steps:\", merge_sort_steps)\n",
        "print(\"Counting Sort Steps:\", counting_sort_steps)\n",
        "\n",
        "if merge_sort_steps < counting_sort_steps:\n",
        "    print(\"Merge Sort is faster.\")\n",
        "else:\n",
        "    print(\"Counting Sort is faster.\")\n",
        "\n",
        "\n",
        "\n"
      ]
    }
  ],
  "metadata": {
    "colab": {
      "provenance": [],
      "toc_visible": true,
      "include_colab_link": true
    },
    "kernelspec": {
      "display_name": "Python 3",
      "language": "python",
      "name": "python3"
    },
    "language_info": {
      "codemirror_mode": {
        "name": "ipython",
        "version": 3
      },
      "file_extension": ".py",
      "mimetype": "text/x-python",
      "name": "python",
      "nbconvert_exporter": "python",
      "pygments_lexer": "ipython3",
      "version": "3.11.4"
    },
    "orig_nbformat": 4
  },
  "nbformat": 4,
  "nbformat_minor": 0
}