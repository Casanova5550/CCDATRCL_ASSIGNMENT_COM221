{
  "cells": [
    {
      "cell_type": "markdown",
      "metadata": {
        "id": "view-in-github",
        "colab_type": "text"
      },
      "source": [
        "<a href=\"https://colab.research.google.com/github/Casanova5550/CCDATRCL_ASSIGNMENT_COM221/blob/main/exercise7.ipynb\" target=\"_parent\"><img src=\"https://colab.research.google.com/assets/colab-badge.svg\" alt=\"Open In Colab\"/></a>"
      ]
    },
    {
      "cell_type": "markdown",
      "metadata": {
        "id": "e3Ja3uozAJlw"
      },
      "source": [
        "# Exercise 7"
      ]
    },
    {
      "cell_type": "code",
      "execution_count": null,
      "metadata": {
        "id": "IW6uTwU8AJly"
      },
      "outputs": [],
      "source": [
        "class Node:\n",
        "    def __init__(self, item):\n",
        "        self.left = None\n",
        "        self.right = None\n",
        "        self.val = item"
      ]
    },
    {
      "cell_type": "code",
      "execution_count": null,
      "metadata": {
        "id": "uxVFuimIAJlz"
      },
      "outputs": [],
      "source": [
        "def evaluateExpressionTree(root):\n",
        "\n",
        "    # empty tree\n",
        "    if root is None:\n",
        "        return 0\n",
        "\n",
        "    # leaf node\n",
        "    if root.left is None and root.right is None:\n",
        "        return int(root.val)\n",
        "\n",
        "    # evaluate left tree\n",
        "    left_sum = evaluateExpressionTree(root.left)\n",
        "\n",
        "    # evaluate right tree\n",
        "    right_sum = evaluateExpressionTree(root.right)\n",
        "\n",
        "    # check which operation to apply\n",
        "    if root.val == '+':\n",
        "        return left_sum + right_sum\n",
        "\n",
        "    elif root.val == '-':\n",
        "        return left_sum - right_sum\n",
        "\n",
        "    elif root.val == '*':\n",
        "        return left_sum * right_sum\n",
        "\n",
        "    else:\n",
        "        return left_sum / right_sum"
      ]
    },
    {
      "cell_type": "code",
      "execution_count": null,
      "metadata": {
        "id": "-xWZXA-mAJl0"
      },
      "outputs": [],
      "source": [
        "def inorder(root):\n",
        "\n",
        "    if root:\n",
        "        # Traverse left\n",
        "        inorder(root.left)\n",
        "        # Traverse root\n",
        "        print(str(root.val) + \"->\", end='')\n",
        "        # Traverse right\n",
        "        inorder(root.right)"
      ]
    },
    {
      "cell_type": "markdown",
      "metadata": {
        "id": "CVtqxh5DAJl1"
      },
      "source": [
        "#### 1. Construct a binary expression tree\n",
        "\n",
        "\n",
        "- Use the evaluateExpressionTree method to get the result of the expression\n",
        "- Use the inorder method to traverse the tree  \n",
        "\n",
        "$$ (8 + 4) * (7 - 9) $$"
      ]
    },
    {
      "cell_type": "code",
      "execution_count": 4,
      "metadata": {
        "id": "CxpP0zcVAJl1",
        "outputId": "78fb840f-a090-4cc4-d8a6-3eb2a0546b4b",
        "colab": {
          "base_uri": "https://localhost:8080/"
        }
      },
      "outputs": [
        {
          "output_type": "stream",
          "name": "stdout",
          "text": [
            "Expression in infix notation:\n",
            "((8+4)*(7-9))\n",
            "Result of the expression: -24\n"
          ]
        }
      ],
      "source": [
        "class Node:\n",
        "    def __init__(self, item):\n",
        "        self.left = None\n",
        "        self.right = None\n",
        "        self.val = item\n",
        "\n",
        "def evaluateExpressionTree(root):\n",
        "\n",
        "    if root is None:\n",
        "        return 0\n",
        "\n",
        "\n",
        "    if root.left is None and root.right is None:\n",
        "        return int(root.val)\n",
        "\n",
        "\n",
        "    left_sum = evaluateExpressionTree(root.left)\n",
        "\n",
        "\n",
        "    right_sum = evaluateExpressionTree(root.right)\n",
        "\n",
        "\n",
        "    if root.val == '+':\n",
        "        return left_sum + right_sum\n",
        "    elif root.val == '-':\n",
        "        return left_sum - right_sum\n",
        "    elif root.val == '*':\n",
        "        return left_sum * right_sum\n",
        "    else:\n",
        "        return left_sum / right_sum\n",
        "\n",
        "\n",
        "def inorder(root):\n",
        "    if root:\n",
        "        if root.left or root.right:\n",
        "            print(\"(\", end=\"\")\n",
        "        inorder(root.left)\n",
        "        print(root.val, end=\"\")\n",
        "        inorder(root.right)\n",
        "        if root.left or root.right:\n",
        "            print(\")\", end=\"\")\n",
        "\n",
        "root = Node(\"*\")\n",
        "root.left = Node(\"+\")\n",
        "root.left.left = Node(\"8\")\n",
        "root.left.right = Node(\"4\")\n",
        "root.right = Node(\"-\")\n",
        "root.right.left = Node(\"7\")\n",
        "root.right.right = Node(\"9\")\n",
        "\n",
        "\n",
        "result = evaluateExpressionTree(root)\n",
        "\n",
        "\n",
        "print(\"Expression in infix notation:\")\n",
        "inorder(root)\n",
        "print()\n",
        "print(f\"Result of the expression: {result}\")\n",
        "\n",
        "\n",
        "\n",
        "\n",
        "\n",
        "\n",
        "\n",
        "\n",
        "\n",
        "\n",
        "\n",
        "\n",
        "\n"
      ]
    },
    {
      "cell_type": "markdown",
      "metadata": {
        "id": "jc5KHLk6AJl2"
      },
      "source": [
        "#### 2. Construct a binary expression tree\n",
        "\n",
        "- Use the evaluateExpressionTree method to get the result of the expression\n",
        "- Use the inorder method to traverse the tree  \n",
        "\n",
        "$$ 5 / 8 + 3 - 6 * 1 $$"
      ]
    },
    {
      "cell_type": "code",
      "execution_count": 5,
      "metadata": {
        "id": "XORzqkC3AJl2",
        "outputId": "746953af-dced-4767-d627-291a2399d33f",
        "colab": {
          "base_uri": "https://localhost:8080/"
        }
      },
      "outputs": [
        {
          "output_type": "stream",
          "name": "stdout",
          "text": [
            "Expression in infix notation:\n",
            "(((5/8)+3)-(6*1))\n",
            "Result of the expression: -2.375\n"
          ]
        }
      ],
      "source": [
        "class Node:\n",
        "    def __init__(self, item):\n",
        "        self.left = None\n",
        "        self.right = None\n",
        "        self.val = item\n",
        "\n",
        "def evaluateExpressionTree(root):\n",
        "    if root is None:\n",
        "        return 0\n",
        "\n",
        "    if root.left is None and root.right is None:\n",
        "        return float(root.val)\n",
        "\n",
        "    left_result = evaluateExpressionTree(root.left)\n",
        "    right_result = evaluateExpressionTree(root.right)\n",
        "\n",
        "    if root.val == '+':\n",
        "        return left_result + right_result\n",
        "    elif root.val == '-':\n",
        "        return left_result - right_result\n",
        "    elif root.val == '*':\n",
        "        return left_result * right_result\n",
        "    elif root.val == '/':\n",
        "        if right_result == 0:\n",
        "            raise ValueError(\"Division by zero\")\n",
        "        return left_result / right_result\n",
        "\n",
        "def inorder(root):\n",
        "    if root:\n",
        "        if root.left or root.right:\n",
        "            print(\"(\", end=\"\")\n",
        "        inorder(root.left)\n",
        "        print(root.val, end=\"\")\n",
        "        inorder(root.right)\n",
        "        if root.left or root.right:\n",
        "            print(\")\", end=\"\")\n",
        "\n",
        "def constructExpressionTree(expression):\n",
        "    precedence = {'+': 1, '-': 1, '*': 2, '/': 2}\n",
        "\n",
        "    operators = []\n",
        "    values = []\n",
        "    index = 0\n",
        "\n",
        "    while index < len(expression):\n",
        "        if expression[index] == ' ':\n",
        "            index += 1\n",
        "            continue\n",
        "\n",
        "        if expression[index].isdigit() or (expression[index] == '-' and (index == 0 or expression[index - 1] in '+-*/(')):\n",
        "            end = index\n",
        "            while end < len(expression) and (expression[end].isdigit() or expression[end] == '.'):\n",
        "                end += 1\n",
        "            values.append(expression[index:end])\n",
        "            index = end\n",
        "        elif expression[index] in '+-*/':\n",
        "            while (operators and operators[-1] in '+-*/' and\n",
        "                    precedence[operators[-1]] >= precedence[expression[index]]):\n",
        "                values.append(operators.pop())\n",
        "            operators.append(expression[index])\n",
        "            index += 1\n",
        "        elif expression[index] == '(':\n",
        "            operators.append('(')\n",
        "            index += 1\n",
        "        elif expression[index] == ')':\n",
        "            while operators and operators[-1] != '(':\n",
        "                values.append(operators.pop())\n",
        "            operators.pop()\n",
        "            index += 1\n",
        "\n",
        "    while operators:\n",
        "        values.append(operators.pop())\n",
        "\n",
        "    stack = []\n",
        "\n",
        "    for token in values:\n",
        "        if token.isdigit() or (token[0] == '-' and token[1:].isdigit()):\n",
        "            stack.append(Node(token))\n",
        "        else:\n",
        "            right = stack.pop()\n",
        "            left = stack.pop()\n",
        "            node = Node(token)\n",
        "            node.left = left\n",
        "            node.right = right\n",
        "            stack.append(node)\n",
        "\n",
        "    return stack[0]\n",
        "\n",
        "expression = \"5/8+3-6*1\"\n",
        "root = constructExpressionTree(expression)\n",
        "result = evaluateExpressionTree(root)\n",
        "\n",
        "print(\"Expression in infix notation:\")\n",
        "inorder(root)\n",
        "print()\n",
        "print(f\"Result of the expression: {result}\")\n",
        "\n"
      ]
    },
    {
      "cell_type": "markdown",
      "metadata": {
        "id": "tu3n5ZdWAJl2"
      },
      "source": [
        "#### 3. Construct a binary expression tree\n",
        "\n",
        "- Use the evaluateExpressionTree method to get the result of the expression\n",
        "- Use the inorder method to traverse the tree  \n",
        "\n",
        "$$ ((2 + 5) / 3)- (3 + 8) $$"
      ]
    },
    {
      "cell_type": "code",
      "execution_count": 6,
      "metadata": {
        "id": "5GvZBxgtAJl3",
        "outputId": "3bdbed61-8c51-4e4c-e57d-3e29fcd6eb42",
        "colab": {
          "base_uri": "https://localhost:8080/"
        }
      },
      "outputs": [
        {
          "output_type": "stream",
          "name": "stdout",
          "text": [
            "Expression in infix notation:\n",
            "(((2+5)/3)-(3+8))\n",
            "Result of the expression: -8.666666666666666\n"
          ]
        }
      ],
      "source": [
        "class Node:\n",
        "    def __init__(self, item):\n",
        "        self.left = None\n",
        "        self.right = None\n",
        "        self.val = item\n",
        "\n",
        "def evaluateExpressionTree(root):\n",
        "    if root is None:\n",
        "        return 0\n",
        "\n",
        "    if root.left is None and root.right is None:\n",
        "        return float(root.val)\n",
        "\n",
        "    left_result = evaluateExpressionTree(root.left)\n",
        "    right_result = evaluateExpressionTree(root.right)\n",
        "\n",
        "    if root.val == '+':\n",
        "        return left_result + right_result\n",
        "    elif root.val == '-':\n",
        "        return left_result - right_result\n",
        "    elif root.val == '*':\n",
        "        return left_result * right_result\n",
        "    elif root.val == '/':\n",
        "        if right_result == 0:\n",
        "            raise ValueError(\"Division by zero\")\n",
        "        return left_result / right_result\n",
        "\n",
        "def inorder(root):\n",
        "    if root:\n",
        "        if root.left or root.right:\n",
        "            print(\"(\", end=\"\")\n",
        "        inorder(root.left)\n",
        "        print(root.val, end=\"\")\n",
        "        inorder(root.right)\n",
        "        if root.left or root.right:\n",
        "            print(\")\", end=\"\")\n",
        "\n",
        "def constructExpressionTree(expression):\n",
        "    precedence = {'+': 1, '-': 1, '*': 2, '/': 2}\n",
        "\n",
        "    operators = []\n",
        "    values = []\n",
        "    index = 0\n",
        "\n",
        "    while index < len(expression):\n",
        "        if expression[index] == ' ':\n",
        "            index += 1\n",
        "            continue\n",
        "\n",
        "        if expression[index].isdigit() or (expression[index] == '-' and (index == 0 or expression[index - 1] in '+-*/(')):\n",
        "            end = index\n",
        "            while end < len(expression) and (expression[end].isdigit() or expression[end] == '.'):\n",
        "                end += 1\n",
        "            values.append(expression[index:end])\n",
        "            index = end\n",
        "        elif expression[index] in '+-*/':\n",
        "            while (operators and operators[-1] in '+-*/' and\n",
        "                    precedence[operators[-1]] >= precedence[expression[index]]):\n",
        "                values.append(operators.pop())\n",
        "            operators.append(expression[index])\n",
        "            index += 1\n",
        "        elif expression[index] == '(':\n",
        "            operators.append('(')\n",
        "            index += 1\n",
        "        elif expression[index] == ')':\n",
        "            while operators and operators[-1] != '(':\n",
        "                values.append(operators.pop())\n",
        "            operators.pop()\n",
        "            index += 1\n",
        "\n",
        "    while operators:\n",
        "        values.append(operators.pop())\n",
        "\n",
        "    stack = []\n",
        "\n",
        "    for token in values:\n",
        "        if token.isdigit() or (token[0] == '-' and token[1:].isdigit()):\n",
        "            stack.append(Node(token))\n",
        "        else:\n",
        "            right = stack.pop()\n",
        "            left = stack.pop()\n",
        "            node = Node(token)\n",
        "            node.left = left\n",
        "            node.right = right\n",
        "            stack.append(node)\n",
        "\n",
        "    return stack[0]\n",
        "\n",
        "expression = \"((2 + 5) / 3) - (3 + 8)\"\n",
        "root = constructExpressionTree(expression)\n",
        "result = evaluateExpressionTree(root)\n",
        "\n",
        "print(\"Expression in infix notation:\")\n",
        "inorder(root)\n",
        "print()\n",
        "print(f\"Result of the expression: {result}\")\n",
        "\n",
        "\n",
        "\n",
        "\n",
        "\n"
      ]
    }
  ],
  "metadata": {
    "kernelspec": {
      "display_name": "Python 3",
      "language": "python",
      "name": "python3"
    },
    "language_info": {
      "codemirror_mode": {
        "name": "ipython",
        "version": 3
      },
      "file_extension": ".py",
      "mimetype": "text/x-python",
      "name": "python",
      "nbconvert_exporter": "python",
      "pygments_lexer": "ipython3",
      "version": "3.11.4"
    },
    "orig_nbformat": 4,
    "colab": {
      "provenance": [],
      "include_colab_link": true
    }
  },
  "nbformat": 4,
  "nbformat_minor": 0
}