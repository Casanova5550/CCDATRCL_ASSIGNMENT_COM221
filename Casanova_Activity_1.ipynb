{
  "nbformat": 4,
  "nbformat_minor": 0,
  "metadata": {
    "colab": {
      "provenance": [],
      "authorship_tag": "ABX9TyOa3KdOh+KYg6pVvyobtoQ8",
      "include_colab_link": true
    },
    "kernelspec": {
      "name": "python3",
      "display_name": "Python 3"
    },
    "language_info": {
      "name": "python"
    }
  },
  "cells": [
    {
      "cell_type": "markdown",
      "metadata": {
        "id": "view-in-github",
        "colab_type": "text"
      },
      "source": [
        "<a href=\"https://colab.research.google.com/github/Casanova5550/CCDATRCL_ASSIGNMENT_COM221/blob/main/Casanova_Activity_1.ipynb\" target=\"_parent\"><img src=\"https://colab.research.google.com/assets/colab-badge.svg\" alt=\"Open In Colab\"/></a>"
      ]
    },
    {
      "cell_type": "code",
      "execution_count": null,
      "metadata": {
        "id": "AAthz_Ht2-Gj",
        "colab": {
          "base_uri": "https://localhost:8080/",
          "height": 366
        },
        "outputId": "6e321fd2-8502-4f10-a7b4-1eb07134a14a"
      },
      "outputs": [
        {
          "output_type": "error",
          "ename": "NameError",
          "evalue": "ignored",
          "traceback": [
            "\u001b[0;31m---------------------------------------------------------------------------\u001b[0m",
            "\u001b[0;31mNameError\u001b[0m                                 Traceback (most recent call last)",
            "\u001b[0;32m<ipython-input-4-8052e943c452>\u001b[0m in \u001b[0;36m<cell line: 35>\u001b[0;34m()\u001b[0m\n\u001b[1;32m     33\u001b[0m \u001b[0;34m\u001b[0m\u001b[0m\n\u001b[1;32m     34\u001b[0m \u001b[0;34m\u001b[0m\u001b[0m\n\u001b[0;32m---> 35\u001b[0;31m \u001b[0mlinked_list\u001b[0m\u001b[0;34m.\u001b[0m\u001b[0mappend\u001b[0m\u001b[0;34m(\u001b[0m\u001b[0;34m\"Casanova\"\u001b[0m\u001b[0;34m,\u001b[0m \u001b[0;34m[\u001b[0m\u001b[0;34m\"Jethro\"\u001b[0m\u001b[0;34m,\u001b[0m \u001b[0;34m\"Siraj\"\u001b[0m\u001b[0;34m,\u001b[0m \u001b[0;34m\"Mahmoud\"\u001b[0m\u001b[0;34m]\u001b[0m\u001b[0;34m)\u001b[0m\u001b[0;34m\u001b[0m\u001b[0;34m\u001b[0m\u001b[0m\n\u001b[0m\u001b[1;32m     36\u001b[0m \u001b[0mlinked_list\u001b[0m\u001b[0;34m.\u001b[0m\u001b[0mappend\u001b[0m\u001b[0;34m(\u001b[0m\u001b[0;34m\"Jethro\"\u001b[0m\u001b[0;34m,\u001b[0m \u001b[0;34m[\u001b[0m\u001b[0;34m\"Casanova\"\u001b[0m\u001b[0;34m,\u001b[0m \u001b[0;34m\"Siraj\"\u001b[0m\u001b[0;34m,\u001b[0m \u001b[0;34m\"Mah mohd\"\u001b[0m\u001b[0;34m]\u001b[0m\u001b[0;34m)\u001b[0m\u001b[0;34m\u001b[0m\u001b[0;34m\u001b[0m\u001b[0m\n\u001b[1;32m     37\u001b[0m \u001b[0mlinked_list\u001b[0m\u001b[0;34m.\u001b[0m\u001b[0mappend\u001b[0m\u001b[0;34m(\u001b[0m\u001b[0;34m\"Siraj\"\u001b[0m\u001b[0;34m,\u001b[0m \u001b[0;34m[\u001b[0m\u001b[0;34m\"Casanova\"\u001b[0m\u001b[0;34m,\u001b[0m \u001b[0;34m\"Jethro\"\u001b[0m\u001b[0;34m,\u001b[0m \u001b[0;34m\"Mah mohd\"\u001b[0m\u001b[0;34m]\u001b[0m\u001b[0;34m)\u001b[0m\u001b[0;34m\u001b[0m\u001b[0;34m\u001b[0m\u001b[0m\n",
            "\u001b[0;32m<ipython-input-4-8052e943c452>\u001b[0m in \u001b[0;36mappend\u001b[0;34m(self, name, seatmates)\u001b[0m\n\u001b[1;32m     10\u001b[0m \u001b[0;34m\u001b[0m\u001b[0m\n\u001b[1;32m     11\u001b[0m     \u001b[0;32mdef\u001b[0m \u001b[0mappend\u001b[0m\u001b[0;34m(\u001b[0m\u001b[0mself\u001b[0m\u001b[0;34m,\u001b[0m \u001b[0mname\u001b[0m\u001b[0;34m,\u001b[0m \u001b[0mseatmates\u001b[0m\u001b[0;34m=\u001b[0m\u001b[0;32mNone\u001b[0m\u001b[0;34m)\u001b[0m\u001b[0;34m:\u001b[0m\u001b[0;34m\u001b[0m\u001b[0;34m\u001b[0m\u001b[0m\n\u001b[0;32m---> 12\u001b[0;31m         \u001b[0mnew_node\u001b[0m \u001b[0;34m=\u001b[0m \u001b[0mNode\u001b[0m\u001b[0;34m(\u001b[0m\u001b[0mname\u001b[0m\u001b[0;34m,\u001b[0m \u001b[0mseatmates\u001b[0m\u001b[0;34m)\u001b[0m\u001b[0;34m\u001b[0m\u001b[0;34m\u001b[0m\u001b[0m\n\u001b[0m\u001b[1;32m     13\u001b[0m         \u001b[0;32mif\u001b[0m \u001b[0;32mnot\u001b[0m \u001b[0mself\u001b[0m\u001b[0;34m.\u001b[0m\u001b[0mhead\u001b[0m\u001b[0;34m:\u001b[0m\u001b[0;34m\u001b[0m\u001b[0;34m\u001b[0m\u001b[0m\n\u001b[1;32m     14\u001b[0m             \u001b[0mself\u001b[0m\u001b[0;34m.\u001b[0m\u001b[0mhead\u001b[0m \u001b[0;34m=\u001b[0m \u001b[0mnew_node\u001b[0m\u001b[0;34m\u001b[0m\u001b[0;34m\u001b[0m\u001b[0m\n",
            "\u001b[0;31mNameError\u001b[0m: name 'Node' is not defined"
          ]
        }
      ],
      "source": [
        "class  LinkedList:\n",
        "    def __init__(self, name, seatmates=None):\n",
        "        self.name = name\n",
        "        self.seatmates = seatmates\n",
        "        self.next = None\n",
        "\n",
        "class SingleLinkedList:\n",
        "    def __init__(self):\n",
        "        self.head = None\n",
        "\n",
        "    def append(self, name, seatmates=None):\n",
        "        new_node = Node(name, seatmates)\n",
        "        if not self.head:\n",
        "            self.head = new_node\n",
        "        else:\n",
        "            current = self.head\n",
        "            while current.next:\n",
        "                current = current.next\n",
        "            current.next = new_node\n",
        "\n",
        "    def traverse(self):\n",
        "        current = self.head\n",
        "        while current:\n",
        "            print(f\"Name: {current.name}\")\n",
        "            if current.seatmates:\n",
        "                print(f\"Seatmates: {', '.join(current.seatmates)}\")\n",
        "            else:\n",
        "                print(\"No seatmates listed.\")\n",
        "            print()\n",
        "            current = current.next\n",
        "\n",
        "linked_list = SingleLinkedList()\n",
        "\n",
        "\n",
        "linked_list.append(\"Casanova\", [\"Jethro\", \"Siraj\", \"Mahmoud\"])\n",
        "linked_list.append(\"Jethro\", [\"Casanova\", \"Siraj\", \"Mah mohd\"])\n",
        "linked_list.append(\"Siraj\", [\"Casanova\", \"Jethro\", \"Mah mohd\"])\n",
        "linked_list.append(\"Mah mohd\", [\"Villarta\", \"Casanova\", \"Jethro\"])\n",
        "linked_list.append(\"Esteban\", [\"Casanova\", \"Villarta\", \"Jethro\", \"James\"])\n",
        "\n",
        "\n",
        "linked_list.traverse()"
      ]
    },
    {
      "cell_type": "code",
      "source": [
        "class DoublyLinkedList:\n",
        "    def __init__(self, name, seatmates):\n",
        "        self.name = name\n",
        "        self.seatmates = seatmates\n",
        "        self.prev = None\n",
        "        self.next = None\n",
        "\n",
        "class DoublyLinkedList:\n",
        "    def __init__(self):\n",
        "        self.head = None\n",
        "\n",
        "    def append(self, name, seatmates):\n",
        "        new_node = Node(name, seatmates);\n",
        "        if not self.head:\n",
        "            self.head = new_node\n",
        "        else:\n",
        "            current = self.head\n",
        "            while current.next:\n",
        "                current = current.next\n",
        "            current.next = new_node\n",
        "            new_node.prev = current\n",
        "\n",
        "    def traverse_forward(self):\n",
        "        current = self.head\n",
        "        while current:\n",
        "            print(f\"Name: {current.name}, Seatmates: {current.seatmates}\")\n",
        "            current = current.next\n",
        "\n",
        "    def traverse_backward(self):\n",
        "        current = self.head\n",
        "        while current and current.next:\n",
        "            current = current.next\n",
        "        while current:\n",
        "            print(f\"Name: {current.name}, Seatmates: {current.seatmates}\")\n",
        "            current = current.prev\n",
        "\n",
        "\n",
        "linked_list = DoublyLinkedList()\n",
        "\n",
        "\n",
        "linked_list.append(\"Casanova\", [\"Awit\", \"Awit\"])\n",
        "linked_list.append(\"Awit\", [\"Awit\", \"Awit\"])\n",
        "linked_list.append(\"Awit\", [\"Awit\", \"Awit\"])\n",
        "linked_list.append(\"Awit\", [\"Awit\"])\n",
        "linked_list.append(\"Awit\", [\"Awit\"])\n",
        "print(\"Traversing forward:\")\n",
        "linked_list.traverse_forward()\n",
        "\n",
        "\n",
        "print(\"\\nTraversing backward:\")\n",
        "linked_list.traverse_backward()\n",
        "\n",
        "\n"
      ],
      "metadata": {
        "id": "Rj1U619N-U-t",
        "colab": {
          "base_uri": "https://localhost:8080/",
          "height": 366
        },
        "outputId": "d86d25d7-c307-4de6-f0a7-949f3bdd0437"
      },
      "execution_count": null,
      "outputs": [
        {
          "output_type": "error",
          "ename": "NameError",
          "evalue": "ignored",
          "traceback": [
            "\u001b[0;31m---------------------------------------------------------------------------\u001b[0m",
            "\u001b[0;31mNameError\u001b[0m                                 Traceback (most recent call last)",
            "\u001b[0;32m<ipython-input-5-5db975f6a6ce>\u001b[0m in \u001b[0;36m<cell line: 41>\u001b[0;34m()\u001b[0m\n\u001b[1;32m     39\u001b[0m \u001b[0;34m\u001b[0m\u001b[0m\n\u001b[1;32m     40\u001b[0m \u001b[0;34m\u001b[0m\u001b[0m\n\u001b[0;32m---> 41\u001b[0;31m \u001b[0mlinked_list\u001b[0m\u001b[0;34m.\u001b[0m\u001b[0mappend\u001b[0m\u001b[0;34m(\u001b[0m\u001b[0;34m\"Casanova\"\u001b[0m\u001b[0;34m,\u001b[0m \u001b[0;34m[\u001b[0m\u001b[0;34m\"Awit\"\u001b[0m\u001b[0;34m,\u001b[0m \u001b[0;34m\"Awit\"\u001b[0m\u001b[0;34m]\u001b[0m\u001b[0;34m)\u001b[0m\u001b[0;34m\u001b[0m\u001b[0;34m\u001b[0m\u001b[0m\n\u001b[0m\u001b[1;32m     42\u001b[0m \u001b[0mlinked_list\u001b[0m\u001b[0;34m.\u001b[0m\u001b[0mappend\u001b[0m\u001b[0;34m(\u001b[0m\u001b[0;34m\"Awit\"\u001b[0m\u001b[0;34m,\u001b[0m \u001b[0;34m[\u001b[0m\u001b[0;34m\"Awit\"\u001b[0m\u001b[0;34m,\u001b[0m \u001b[0;34m\"Awit\"\u001b[0m\u001b[0;34m]\u001b[0m\u001b[0;34m)\u001b[0m\u001b[0;34m\u001b[0m\u001b[0;34m\u001b[0m\u001b[0m\n\u001b[1;32m     43\u001b[0m \u001b[0mlinked_list\u001b[0m\u001b[0;34m.\u001b[0m\u001b[0mappend\u001b[0m\u001b[0;34m(\u001b[0m\u001b[0;34m\"Awit\"\u001b[0m\u001b[0;34m,\u001b[0m \u001b[0;34m[\u001b[0m\u001b[0;34m\"Awit\"\u001b[0m\u001b[0;34m,\u001b[0m \u001b[0;34m\"Awit\"\u001b[0m\u001b[0;34m]\u001b[0m\u001b[0;34m)\u001b[0m\u001b[0;34m\u001b[0m\u001b[0;34m\u001b[0m\u001b[0m\n",
            "\u001b[0;32m<ipython-input-5-5db975f6a6ce>\u001b[0m in \u001b[0;36mappend\u001b[0;34m(self, name, seatmates)\u001b[0m\n\u001b[1;32m     11\u001b[0m \u001b[0;34m\u001b[0m\u001b[0m\n\u001b[1;32m     12\u001b[0m     \u001b[0;32mdef\u001b[0m \u001b[0mappend\u001b[0m\u001b[0;34m(\u001b[0m\u001b[0mself\u001b[0m\u001b[0;34m,\u001b[0m \u001b[0mname\u001b[0m\u001b[0;34m,\u001b[0m \u001b[0mseatmates\u001b[0m\u001b[0;34m)\u001b[0m\u001b[0;34m:\u001b[0m\u001b[0;34m\u001b[0m\u001b[0;34m\u001b[0m\u001b[0m\n\u001b[0;32m---> 13\u001b[0;31m         \u001b[0mnew_node\u001b[0m \u001b[0;34m=\u001b[0m \u001b[0mNode\u001b[0m\u001b[0;34m(\u001b[0m\u001b[0mname\u001b[0m\u001b[0;34m,\u001b[0m \u001b[0mseatmates\u001b[0m\u001b[0;34m)\u001b[0m\u001b[0;34m;\u001b[0m\u001b[0;34m\u001b[0m\u001b[0;34m\u001b[0m\u001b[0m\n\u001b[0m\u001b[1;32m     14\u001b[0m         \u001b[0;32mif\u001b[0m \u001b[0;32mnot\u001b[0m \u001b[0mself\u001b[0m\u001b[0;34m.\u001b[0m\u001b[0mhead\u001b[0m\u001b[0;34m:\u001b[0m\u001b[0;34m\u001b[0m\u001b[0;34m\u001b[0m\u001b[0m\n\u001b[1;32m     15\u001b[0m             \u001b[0mself\u001b[0m\u001b[0;34m.\u001b[0m\u001b[0mhead\u001b[0m \u001b[0;34m=\u001b[0m \u001b[0mnew_node\u001b[0m\u001b[0;34m\u001b[0m\u001b[0;34m\u001b[0m\u001b[0m\n",
            "\u001b[0;31mNameError\u001b[0m: name 'Node' is not defined"
          ]
        }
      ]
    },
    {
      "cell_type": "code",
      "source": [
        "class CircularLinkedList:\n",
        "\n",
        "    def __init__(self, name, seatmates):\n",
        "        self.name = name\n",
        "        self.seatmates = seatmates\n",
        "        self.next = None\n",
        "\n",
        "class CircularLinkedList:\n",
        "    def __init__(self):\n",
        "        self.head = None\n",
        "\n",
        "    def append(self, name, seatmates):\n",
        "        new_node = Node(name, seatmates)\n",
        "        if not self.head:\n",
        "            self.head = new_node\n",
        "            new_node.next = self.head\n",
        "        else:\n",
        "            current = self.head\n",
        "            while current.next != self.head:\n",
        "                current = current.next\n",
        "            current.next = new_node\n",
        "            new_node.next = self.head\n",
        "\n",
        "    def traverse(self):\n",
        "        if not self.head:\n",
        "            return\n",
        "\n",
        "        current = self.head\n",
        "        while True:\n",
        "            print(f\"Name: {current.name}, Seatmates: {current.seatmates}\")\n",
        "            current = current.next\n",
        "            if current == self.head:\n",
        "                break\n",
        "\n",
        "linked_list = CircularLinkedList()\n",
        "\n",
        "\n",
        "linked_list.append(\"Casa\", [\"AWIT\", \"Awit\"])\n",
        "linked_list.append(\"Awit\", [\"Awit\", \"Awit\"])\n",
        "linked_list.append(\"Awit\", [\"Awit\", \"Awit\"])\n",
        "linked_list.append(\"Awit\", [\"Awit\"])\n",
        "linked_list.append(\"Awit\", [\"Awit\"])\n",
        "\n",
        "linked_list.traverse()\n",
        "\n",
        "\n",
        "\n"
      ],
      "metadata": {
        "id": "xXyxotwt-nw6"
      },
      "execution_count": null,
      "outputs": []
    }
  ]
}