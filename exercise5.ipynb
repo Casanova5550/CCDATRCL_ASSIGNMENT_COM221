{
  "cells": [
    {
      "cell_type": "markdown",
      "metadata": {
        "id": "view-in-github",
        "colab_type": "text"
      },
      "source": [
        "<a href=\"https://colab.research.google.com/github/Casanova5550/CCDATRCL_ASSIGNMENT_COM221/blob/main/exercise5.ipynb\" target=\"_parent\"><img src=\"https://colab.research.google.com/assets/colab-badge.svg\" alt=\"Open In Colab\"/></a>"
      ]
    },
    {
      "cell_type": "markdown",
      "metadata": {
        "id": "vu1unrc4FKDx"
      },
      "source": [
        "# Exercise 5"
      ]
    },
    {
      "cell_type": "markdown",
      "metadata": {
        "id": "EE4OHD-VFKDz"
      },
      "source": [
        "#### 1. Create a dictionary of your 10 favorite songs."
      ]
    },
    {
      "cell_type": "markdown",
      "metadata": {
        "id": "OKnOl0MTFKD0"
      },
      "source": [
        "Example:\n",
        "\n",
        "|KEY|VALUE|\n",
        "|---|---|\n",
        "|001|My Love|\n",
        "|002|Like a rose|"
      ]
    },
    {
      "cell_type": "code",
      "execution_count": 5,
      "metadata": {
        "id": "5MIMZk6jFKD0"
      },
      "outputs": [],
      "source": [
        "favorite_songs = {\n",
        "    \"001\": \"Bohemian Rhapsody\",\n",
        "    \"002\": \"Imagine\",\n",
        "    \"003\": \"Hotel California\",\n",
        "    \"004\": \"Stairway to Heaven\",\n",
        "    \"005\": \"Yesterday\",\n",
        "    \"006\": \"Hallelujah\",\n",
        "    \"007\": \"Purple Haze\",\n",
        "    \"008\": \"Let It Be\",\n",
        "    \"009\": \"Billie Jean\",\n",
        "    \"010\": \"Python Song\"\n",
        "}"
      ]
    },
    {
      "cell_type": "markdown",
      "metadata": {
        "id": "D6shJm8iFKD1"
      },
      "source": [
        "#### 2. Loop through the dictionary by its **key** and **value**"
      ]
    },
    {
      "cell_type": "code",
      "execution_count": 9,
      "metadata": {
        "id": "RxudNAn7FKD1",
        "outputId": "1a735c37-c275-4cee-bfc2-9f65a99057f4",
        "colab": {
          "base_uri": "https://localhost:8080/"
        }
      },
      "outputs": [
        {
          "output_type": "stream",
          "name": "stdout",
          "text": [
            "KEY: 001\n",
            "VALUE: Bohemian Rhapsody\n",
            "KEY: 002\n",
            "VALUE: Imagine\n",
            "KEY: 003\n",
            "VALUE: Hotel California\n",
            "KEY: 004\n",
            "VALUE: Stairway to Heaven\n",
            "KEY: 005\n",
            "VALUE: Yesterday\n",
            "KEY: 006\n",
            "VALUE: Hallelujah\n",
            "KEY: 007\n",
            "VALUE: Purple Haze\n",
            "KEY: 008\n",
            "VALUE: Let It Be\n",
            "KEY: 009\n",
            "VALUE: Billie Jean\n",
            "KEY: 010\n",
            "VALUE: Sana\n"
          ]
        }
      ],
      "source": [
        "favorite_songs = {\n",
        "    \"001\": \"Bohemian Rhapsody\",\n",
        "    \"002\": \"Imagine\",\n",
        "    \"003\": \"Hotel California\",\n",
        "    \"004\": \"Stairway to Heaven\",\n",
        "    \"005\": \"Yesterday\",\n",
        "    \"006\": \"Hallelujah\",\n",
        "    \"007\": \"Purple Haze\",\n",
        "    \"008\": \"Let It Be\",\n",
        "    \"009\": \"Billie Jean\",\n",
        "    \"010\": \"Sana\"\n",
        "\n",
        "}\n",
        "\n",
        "for key, value in favorite_songs.items():\n",
        "    print(\"KEY:\", key)\n",
        "    print(\"VALUE:\", value)\n"
      ]
    },
    {
      "cell_type": "markdown",
      "metadata": {
        "id": "y661Io1xFKD1"
      },
      "source": [
        "#### 3. Add one additional song"
      ]
    },
    {
      "cell_type": "code",
      "execution_count": 13,
      "metadata": {
        "id": "Z5KDSQy2FKD1",
        "outputId": "59499a82-0878-48bb-8b54-26d5916fe842",
        "colab": {
          "base_uri": "https://localhost:8080/"
        }
      },
      "outputs": [
        {
          "output_type": "stream",
          "name": "stdout",
          "text": [
            "KEY: 001\n",
            "VALUE: Bohemian Rhapsody\n",
            "KEY: 002\n",
            "VALUE: Imagine\n",
            "KEY: 003\n",
            "VALUE: Hotel California\n",
            "KEY: 004\n",
            "VALUE: Stairway to Heaven\n",
            "KEY: 005\n",
            "VALUE: Yesterday\n",
            "KEY: 006\n",
            "VALUE: Hallelujah\n",
            "KEY: 007\n",
            "VALUE: Purple Haze\n",
            "KEY: 008\n",
            "VALUE: Let It Be\n",
            "KEY: 009\n",
            "VALUE: Billie Jean\n",
            "KEY: 010\n",
            "VALUE: Sana\n",
            "KEY: 011\n",
            "VALUE: Summer Paradise\n"
          ]
        }
      ],
      "source": [
        "favorite_songs = {\n",
        "    \"001\": \"Bohemian Rhapsody\",\n",
        "    \"002\": \"Imagine\",\n",
        "    \"003\": \"Hotel California\",\n",
        "    \"004\": \"Stairway to Heaven\",\n",
        "    \"005\": \"Yesterday\",\n",
        "    \"006\": \"Hallelujah\",\n",
        "    \"007\": \"Purple Haze\",\n",
        "    \"008\": \"Let It Be\",\n",
        "    \"009\": \"Billie Jean\",\n",
        "    \"010\": \"Sana\",\n",
        "    \"011\": \"Summer Paradise\"\n",
        "}\n",
        "for key, value in favorite_songs.items():\n",
        "    print(\"KEY:\", key)\n",
        "    print(\"VALUE:\", value)"
      ]
    },
    {
      "cell_type": "markdown",
      "metadata": {
        "id": "afSF9fhQFKD2"
      },
      "source": [
        "#### 4. Remove one song"
      ]
    },
    {
      "cell_type": "code",
      "execution_count": 18,
      "metadata": {
        "id": "KWJ9P6MvFKD2",
        "outputId": "19d2eb5c-bd1c-4743-95fe-597bda8a8f81",
        "colab": {
          "base_uri": "https://localhost:8080/"
        }
      },
      "outputs": [
        {
          "output_type": "stream",
          "name": "stdout",
          "text": [
            "KEY: 001\n",
            "VALUE: Bohemian Rhapsody\n",
            "KEY: 002\n",
            "VALUE: Imagine\n",
            "KEY: 003\n",
            "VALUE: Hotel California\n",
            "KEY: 004\n",
            "VALUE: Stairway to Heaven\n",
            "KEY: 005\n",
            "VALUE: Yesterday\n",
            "KEY: 006\n",
            "VALUE: Hallelujah\n",
            "KEY: 007\n",
            "VALUE: Purple Haze\n",
            "KEY: 008\n",
            "VALUE: Let It Be\n",
            "KEY: 009\n",
            "VALUE: Billie Jean\n",
            "KEY: 010\n",
            "VALUE: Sana\n"
          ]
        }
      ],
      "source": [
        "favorite_songs = {\n",
        "    \"001\": \"Bohemian Rhapsody\",\n",
        "    \"002\": \"Imagine\",\n",
        "    \"003\": \"Hotel California\",\n",
        "    \"004\": \"Stairway to Heaven\",\n",
        "    \"005\": \"Yesterday\",\n",
        "    \"006\": \"Hallelujah\",\n",
        "    \"007\": \"Purple Haze\",\n",
        "    \"008\": \"Let It Be\",\n",
        "    \"009\": \"Billie Jean\",\n",
        "    \"010\": \"Sana\"\n",
        "}\n",
        "for key, value in favorite_songs.items():\n",
        "    print(\"KEY:\", key)\n",
        "    print(\"VALUE:\", value)"
      ]
    },
    {
      "cell_type": "markdown",
      "metadata": {
        "id": "MY_KnmYlFKD2"
      },
      "source": [
        "#### 5. Create a nested dictionary of your 10 favorite songs with 5 genres. Display all of the items of the nested dictionary\n",
        "\n",
        "- Each nested dictionary's key should be the genre of the song\n",
        "- Put each song in their respective genre"
      ]
    },
    {
      "cell_type": "markdown",
      "metadata": {
        "id": "xhvWzwriFKD2"
      },
      "source": [
        "Example:\n",
        "\n",
        "\n",
        "|KEY|VALUE|\n",
        "|---|---|\n",
        "|Pop|{001, Baby}|\n",
        "|Rock|{001, Enter Sandman}|"
      ]
    },
    {
      "cell_type": "code",
      "execution_count": 14,
      "metadata": {
        "id": "4O7oiuM_FKD2",
        "outputId": "7ad365e8-c6c0-45ab-9078-570b64d1baf8",
        "colab": {
          "base_uri": "https://localhost:8080/"
        }
      },
      "outputs": [
        {
          "output_type": "stream",
          "name": "stdout",
          "text": [
            "Genre: Pop\n",
            "KEY: 001\tVALUE: Baby\n",
            "KEY: 002\tVALUE: Shape of You\n",
            "KEY: 003\tVALUE: Happy\n",
            "\n",
            "Genre: Rock\n",
            "KEY: 001\tVALUE: Bohemian Rhapsody\n",
            "KEY: 002\tVALUE: Stairway to Heaven\n",
            "KEY: 003\tVALUE: Purple Haze\n",
            "\n",
            "Genre: Hip-Hop\n",
            "KEY: 001\tVALUE: Lose Yourself\n",
            "KEY: 002\tVALUE: Sicko Mode\n",
            "KEY: 003\tVALUE: Hotline Bling\n",
            "\n",
            "Genre: Country\n",
            "KEY: 001\tVALUE: Wagon Wheel\n",
            "KEY: 002\tVALUE: Take Me Home, Country Roads\n",
            "KEY: 003\tVALUE: The Dance\n",
            "\n",
            "Genre: Electronic\n",
            "KEY: 001\tVALUE: Clarity\n",
            "KEY: 002\tVALUE: Strobe\n",
            "KEY: 003\tVALUE: Levels\n",
            "\n"
          ]
        }
      ],
      "source": [
        "favorite_songs = {\n",
        "    \"Pop\": {\n",
        "        \"001\": \"Baby\",\n",
        "        \"002\": \"Shape of You\",\n",
        "        \"003\": \"Happy\"\n",
        "    },\n",
        "    \"Rock\": {\n",
        "        \"001\": \"Bohemian Rhapsody\",\n",
        "        \"002\": \"Stairway to Heaven\",\n",
        "        \"003\": \"Purple Haze\"\n",
        "    },\n",
        "    \"Hip-Hop\": {\n",
        "        \"001\": \"Lose Yourself\",\n",
        "        \"002\": \"Sicko Mode\",\n",
        "        \"003\": \"Hotline Bling\"\n",
        "    },\n",
        "    \"Country\": {\n",
        "        \"001\": \"Wagon Wheel\",\n",
        "        \"002\": \"Take Me Home, Country Roads\",\n",
        "        \"003\": \"The Dance\"\n",
        "    },\n",
        "    \"Electronic\": {\n",
        "        \"001\": \"Clarity\",\n",
        "        \"002\": \"Strobe\",\n",
        "        \"003\": \"Levels\"\n",
        "    }\n",
        "}\n",
        "\n",
        "\n",
        "for genre, songs in favorite_songs.items():\n",
        "    print(f\"Genre: {genre}\")\n",
        "    for key, value in songs.items():\n",
        "        print(f\"KEY: {key}\\tVALUE: {value}\")\n",
        "    print()\n",
        "\n",
        "\n",
        "\n",
        "\n"
      ]
    },
    {
      "cell_type": "markdown",
      "metadata": {
        "id": "GFwxHOskFKD2"
      },
      "source": [
        "#### 6. Print the first song of the first genre"
      ]
    },
    {
      "cell_type": "code",
      "execution_count": 15,
      "metadata": {
        "id": "SL_RazUqFKD2",
        "outputId": "c30065fd-0e62-4a1d-bb5b-acaad10d3256",
        "colab": {
          "base_uri": "https://localhost:8080/"
        }
      },
      "outputs": [
        {
          "output_type": "stream",
          "name": "stdout",
          "text": [
            "The first song in the first genre (Pop) is: Baby\n"
          ]
        }
      ],
      "source": [
        "first_genre = list(favorite_songs.keys())[0]\n",
        "first_song = list(favorite_songs[first_genre].values())[0]\n",
        "\n",
        "print(f\"The first song in the first genre ({first_genre}) is: {first_song}\")"
      ]
    },
    {
      "cell_type": "markdown",
      "metadata": {
        "id": "0yP7xoO8FKD3"
      },
      "source": [
        "#### 7. Print the first song of the last genre"
      ]
    },
    {
      "cell_type": "code",
      "execution_count": 16,
      "metadata": {
        "id": "iKerzcnMFKD3",
        "outputId": "8ac5cc41-e862-4bde-f41b-7ebaff7896b2",
        "colab": {
          "base_uri": "https://localhost:8080/"
        }
      },
      "outputs": [
        {
          "output_type": "stream",
          "name": "stdout",
          "text": [
            "The first song in the last genre (Electronic) is: Clarity\n"
          ]
        }
      ],
      "source": [
        "\n",
        "last_genre = list(favorite_songs.keys())[-1]\n",
        "\n",
        "\n",
        "first_song_last_genre = list(favorite_songs[last_genre].values())[0]\n",
        "\n",
        "print(f\"The first song in the last genre ({last_genre}) is: {first_song_last_genre}\")"
      ]
    }
  ],
  "metadata": {
    "kernelspec": {
      "display_name": "Python 3",
      "language": "python",
      "name": "python3"
    },
    "language_info": {
      "codemirror_mode": {
        "name": "ipython",
        "version": 3
      },
      "file_extension": ".py",
      "mimetype": "text/x-python",
      "name": "python",
      "nbconvert_exporter": "python",
      "pygments_lexer": "ipython3",
      "version": "3.11.4"
    },
    "orig_nbformat": 4,
    "colab": {
      "provenance": [],
      "include_colab_link": true
    }
  },
  "nbformat": 4,
  "nbformat_minor": 0
}